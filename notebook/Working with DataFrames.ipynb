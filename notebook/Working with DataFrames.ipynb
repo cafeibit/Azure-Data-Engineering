{
  "cells": [
    {
      "cell_type": "markdown",
      "source": [
        "# Describe a DataFrame\r\n",
        "\r\n",
        "Your data processing in Azure Databricks is accomplished by defining Dataframes to read and process the Data.\r\n",
        "\r\n",
        "This notebook will introduce how to read your data using Azure Databricks Dataframes."
      ],
      "metadata": {
        "nteract": {
          "transient": {
            "deleting": false
          }
        }
      }
    },
    {
      "cell_type": "markdown",
      "source": [
        "#Introduction\r\n",
        "\r\n",
        "** Data Source **\r\n",
        "* One hour of Pagecounts from the English Wikimedia projects captured August 5, 2016, at 12:00 PM UTC.\r\n",
        "* Size on Disk: ~23 MB\r\n",
        "* Type: Compressed Parquet File\r\n",
        "* More Info: <a href=\"https://dumps.wikimedia.org/other/pagecounts-raw\" target=\"_blank\">Page view statistics for Wikimedia projects</a>\r\n",
        "\r\n",
        "**Technical Accomplishments:**\r\n",
        "* Develop familiarity with the `DataFrame` APIs\r\n",
        "* Introduce the classes...\r\n",
        "  * `SparkSession`\r\n",
        "  * `DataFrame` (aka `Dataset[Row]`)\r\n",
        "* Introduce the actions...\r\n",
        "  * `count()`"
      ],
      "metadata": {
        "nteract": {
          "transient": {
            "deleting": false
          }
        }
      }
    },
    {
      "cell_type": "markdown",
      "source": [
        "##![Spark Logo Tiny](https://files.training.databricks.com/images/105/logo_spark_tiny.png) **The Data Source**\r\n",
        "\r\n",
        "* In this notebook, we will be using a compressed parquet \"file\" called **pagecounts** (~23 MB file from Wikipedia)\r\n",
        "* We will explore the data and develop an understanding of it as we progress.\r\n",
        "* You can read more about this dataset here: <a href=\"https://dumps.wikimedia.org/other/pagecounts-raw/\" target=\"_blank\">Page view statistics for Wikimedia projects</a>.\r\n",
        "\r\n",
        "We can use **dbutils.fs.ls()** to view our data on the DBFS."
      ],
      "metadata": {
        "nteract": {
          "transient": {
            "deleting": false
          }
        }
      }
    },
    {
      "cell_type": "code",
      "source": [
        "(source, sasEntity, sasToken) = getAzureDataSource()\r\n",
        "\r\n",
        "spark.conf.set(sasEntity, sasToken)\r\n",
        "\r\n",
        "path = source + \"/wikipedia/pagecounts/staging_parquet_en_only_clean/\"\r\n",
        "files = dbutils.fs.ls(path)\r\n",
        "display(files)"
      ],
      "outputs": [],
      "execution_count": null,
      "metadata": {
        "jupyter": {
          "source_hidden": false,
          "outputs_hidden": false
        },
        "nteract": {
          "transient": {
            "deleting": false
          }
        }
      }
    },
    {
      "cell_type": "markdown",
      "source": [
        "As we can see from the files listed above, this data is stored in <a href=\"https://parquet.apache.org\" target=\"_blank\">Parquet</a> files which can be read in a single command, the result of which will be a `DataFrame`.\r\n",
        "\r\n",
        "##![Spark Logo Tiny](https://files.training.databricks.com/images/105/logo_spark_tiny.png) Create a DataFrame\r\n",
        "* We can read the Parquet files into a `DataFrame`.\r\n",
        "* We'll start with the object **spark**, an instance of `SparkSession` and the entry point to Spark 2.0 applications.\r\n",
        "* From there we can access the `read` object which gives us an instance of `DataFrameReader`."
      ],
      "metadata": {
        "nteract": {
          "transient": {
            "deleting": false
          }
        }
      }
    },
    {
      "cell_type": "code",
      "source": [
        "parquetDir = source + \"/wikipedia/pagecounts/staging_parquet_en_only_clean/\"\r\n",
        "\r\n",
        "pagecountsEnAllDF = (spark  # Our SparkSession & Entry Point\r\n",
        "  .read                     # Our DataFrameReader\r\n",
        "  .parquet(parquetDir)      # Returns an instance of DataFrame\r\n",
        ")\r\n",
        "print(pagecountsEnAllDF)    # Python hack to see the data type\r\n"
      ],
      "outputs": [],
      "execution_count": null,
      "metadata": {
        "jupyter": {
          "source_hidden": false,
          "outputs_hidden": false
        },
        "nteract": {
          "transient": {
            "deleting": false
          }
        }
      }
    },
    {
      "cell_type": "markdown",
      "source": [
        "##![Spark Logo Tiny](https://files.training.databricks.com/images/105/logo_spark_tiny.png) count()\r\n",
        "\r\n",
        "If you look at the API docs, `count()` is described like this:\r\n",
        "> Returns the number of rows in the Dataset.\r\n",
        "\r\n",
        "`count()` will trigger a job to process the request and return a value.\r\n",
        "\r\n",
        "We can now count all records in our `DataFrame` like this:"
      ],
      "metadata": {
        "nteract": {
          "transient": {
            "deleting": false
          }
        }
      }
    },
    {
      "cell_type": "code",
      "source": [
        "total = pagecountsEnAllDF.count()\r\n",
        "\r\n",
        "print(\"Record Count: {0:,}\".format( total ))"
      ],
      "outputs": [],
      "execution_count": null,
      "metadata": {
        "jupyter": {
          "source_hidden": false,
          "outputs_hidden": false
        },
        "nteract": {
          "transient": {
            "deleting": false
          }
        }
      }
    },
    {
      "cell_type": "markdown",
      "source": [
        "Before we take a closer look at the contents of the `DataFrame`, let us introduce a technique that speeds up processing.  \r\n",
        "\r\n",
        "##![Spark Logo Tiny](https://files.training.databricks.com/images/105/logo_spark_tiny.png) cache() & persist()\r\n",
        "\r\n",
        "The ability to cache data is one technique for achieving better performance with Apache Spark. \r\n",
        "\r\n",
        "This is because every action requires Spark to read the data from its source (Azure Blob, Amazon S3, HDFS, etc.) but caching moves that data into the memory of the local executor for \"instant\" access.\r\n",
        "\r\n",
        "`cache()` is just an alias for `persist()`. "
      ],
      "metadata": {
        "nteract": {
          "transient": {
            "deleting": false
          }
        }
      }
    },
    {
      "cell_type": "code",
      "source": [
        "(pagecountsEnAllDF\r\n",
        "  .cache()         # Mark the DataFrame as cached\r\n",
        "  .count()         # Materialize the cache\r\n",
        ") "
      ],
      "outputs": [],
      "execution_count": null,
      "metadata": {
        "jupyter": {
          "source_hidden": false,
          "outputs_hidden": false
        },
        "nteract": {
          "transient": {
            "deleting": false
          }
        }
      }
    },
    {
      "cell_type": "markdown",
      "source": [
        "If you re-run that command, it should take significantly less time."
      ],
      "metadata": {
        "nteract": {
          "transient": {
            "deleting": false
          }
        }
      }
    },
    {
      "cell_type": "code",
      "source": [
        "pagecountsEnAllDF.count()"
      ],
      "outputs": [],
      "execution_count": null,
      "metadata": {
        "jupyter": {
          "source_hidden": false,
          "outputs_hidden": false
        },
        "nteract": {
          "transient": {
            "deleting": false
          }
        }
      }
    },
    {
      "cell_type": "markdown",
      "source": [
        "## Performance considerations of Caching Data\r\n",
        "\r\n",
        "When Caching Data you are placing it on the workers of the cluster. \r\n",
        "\r\n",
        "Caching takes resources, before moving a notebook into production please check and verify that you are appropriately using cache. \r\n",
        "\r\n",
        "And as a quick side note, you can remove a cache by calling the `DataFrame`'s `unpersist()` method but, it is not necessary.\r\n",
        "\r\n",
        "##![Spark Logo Tiny](https://files.training.databricks.com/images/105/logo_spark_tiny.png) Our Data\r\n",
        "\r\n",
        "Let's continue by taking a look at the type of data we have. \r\n",
        "\r\n",
        "We can do this with the `printSchema()` command:"
      ],
      "metadata": {
        "nteract": {
          "transient": {
            "deleting": false
          }
        }
      }
    },
    {
      "cell_type": "code",
      "source": [
        "pagecountsEnAllDF.printSchema()"
      ],
      "outputs": [],
      "execution_count": null,
      "metadata": {
        "jupyter": {
          "source_hidden": false,
          "outputs_hidden": false
        },
        "nteract": {
          "transient": {
            "deleting": false
          }
        }
      }
    },
    {
      "cell_type": "markdown",
      "source": [
        "We should now be able to see that we have four columns of data:\r\n",
        "* **project** (*string*): The name of the Wikipedia project. This will include values such as:\r\n",
        "  * **en**: The English version of Wikipedia.\r\n",
        "  * **fr**: The French version of Wikipedia.\r\n",
        "  * **en.d**: The English version of Wiktionary.\r\n",
        "  * **fr.b**: The French version of Wikibooks.\r\n",
        "  * **de.n**: The German version of Wikinews.\r\n",
        "* **article** (*string*): The name of the article in the corresponding project. This will include values such as:\r\n",
        "  * <a href=\"https://en.wikipedia.org/wiki/Apache_Spark\" target=\"_blank\">Apache_Spark</a>\r\n",
        "  * <a href=\"https://en.wikipedia.org/wiki/Matei_Zaharia\" target=\"_blank\">Matei_Zaharia</a>\r\n",
        "  * <a href=\"https://en.wikipedia.org/wiki/Kevin_Bacon\" target=\"_blank\">Kevin_Bacon</a>\r\n",
        "* **requests** (*integer*): The number of requests (clicks) the article has received in the hour this data represents.\r\n",
        "* **bytes_served** (*long*): The total number of bytes delivered for the requested article.\r\n",
        "  * **Note:** In our copy of the data, this value is zero for all records and consequently is of no value to us.\r\n",
        "\r\n",
        "\r\n",
        "##![Spark Logo Tiny](https://files.training.databricks.com/images/105/logo_spark_tiny.png) Spark API\r\n",
        "\r\n",
        "You have already seen one command available to the `DataFrame` class, namely `DataFrame.printSchema()`\r\n",
        "  \r\n",
        "Let's take a look at the API to see what other operations we have available.\r\n",
        "\r\n",
        "\r\n",
        "### **Spark API Home Page**\r\n",
        "0. Open a new browser tab\r\n",
        "0. Google for **Spark API Latest** or **Spark API _x.x.x_** for a specific version.\r\n",
        "0. Select **Spark API Documentation - Spark _x.x.x_ Documentation - Apache Spark** \r\n",
        "\r\n",
        "Other Documentation:\r\n",
        "* Programming Guides for DataFrames, SQL, Graphs, Machine Learning, Streaming...\r\n",
        "* Deployment Guides for Spark Standalone, Mesos, Yarn...\r\n",
        "* Configuration, Monitoring, Tuning, Security...\r\n",
        "\r\n",
        "Here are some shortcuts\r\n",
        "  * <a href=\"https://spark.apache.org/docs/latest/\" target=\"_blank\">Spark API Documentation - Latest</a>\r\n",
        "  * <a href=\"https://spark.apache.org/docs/2.1.1/api.html\" target=\"_blank\">Spark API Documentation - 2.1.1</a>\r\n",
        "  * <a href=\"https://spark.apache.org/docs/2.1.0/api.html\" target=\"_blank\">Spark API Documentation - 2.1.0</a>\r\n",
        "  * <a href=\"https://spark.apache.org/docs/2.0.2/api.html\" target=\"_blank\">Spark API Documentation - 2.0.2</a>\r\n",
        "  * <a href=\"https://spark.apache.org/docs/1.6.3/api.html\" target=\"_blank\">Spark API Documentation - 1.6.3</a>\r\n",
        "\r\n",
        "Naturally, which set of documentation you will use depends on which language you will use.\r\n",
        "\r\n",
        "### Spark API (Python)\r\n",
        "\r\n",
        "0. Select **Spark Python API (Sphinx)**.\r\n",
        "0. Look up the documentation for `pyspark.sql.DataFrame`.\r\n",
        "  0. In the lower-left-hand-corner type **DataFrame** into the search field.\r\n",
        "  0. Hit **[Enter]**.\r\n",
        "  0. The search results should appear in the right-hand pane.\r\n",
        "  0. Click on **pyspark.sql.DataFrame (Python class, in pyspark.sql module)**\r\n",
        "  0. The documentation should open in the right-hand pane.\r\n",
        "\r\n",
        "\r\n",
        "### Spark API (Scala)\r\n",
        "\r\n",
        "0. Select **Spark Scala API (Scaladoc)**.\r\n",
        "0. Look up the documentation for `org.apache.spark.sql.DataFrame`.\r\n",
        "  0. In the upper-left-hand-corner type **DataFrame** into the search field.\r\n",
        "  0. The search will execute automatically.\r\n",
        "  0. In the class/package list, click on **DataFrame**.\r\n",
        "  0. The documentation should open in the right-hand pane.\r\n",
        "  \r\n",
        "This isn't going to work, but why?\r\n",
        "\r\n",
        "\r\n",
        "### Spark API (Scala), Try #2\r\n",
        "\r\n",
        "Look up the documentation for `org.apache.spark.sql.Dataset`.\r\n",
        "  0. In the upper-left-hand-corner type **Dataset** into the search field.\r\n",
        "  0. The search will execute automatically.\r\n",
        "  0. In the class/package list, click on **Dataset**.\r\n",
        "  0. The documentation should open in the right-hand pane.\r\n",
        "\r\n",
        "Now that we have found the proper documentation, we can take a quick peek at the function `printSchema()`.\r\n",
        "\r\n",
        "Nothing special here.\r\n",
        "\r\n",
        "If you look at the API docs, `printSchema(..)` is described like this:\r\n",
        "> Prints the schema to the console in a nice tree format."
      ],
      "metadata": {
        "nteract": {
          "transient": {
            "deleting": false
          }
        }
      }
    },
    {
      "cell_type": "markdown",
      "source": [],
      "metadata": {
        "nteract": {
          "transient": {
            "deleting": false
          }
        }
      }
    },
    {
      "cell_type": "markdown",
      "source": [
        "##![Spark Logo Tiny](https://files.training.databricks.com/images/105/logo_spark_tiny.png) show(..)\r\n",
        "\r\n",
        "What we want to look for next is a function that will allow us to print the data to the console.\r\n",
        "\r\n",
        "In the API docs for `DataFrame`/`Dataset` find the docs for the `show(..)` command(s).\r\n",
        "\r\n",
        "In the case of Python, we have one method with two optional parameters.<br/>\r\n",
        "In the case of Scala, we have several overloaded methods.<br/>\r\n",
        "\r\n",
        "In either case, the `show(..)` method effectively has two optional parameters:\r\n",
        "* **n**: The number of records to print to the console, the default being 20.\r\n",
        "* **truncate**: If true, columns wider than 20 characters will be truncated, where the default is true.\r\n",
        "\r\n",
        "Let's take a look at the data in our `DataFrame` with the `show()` command:\r\n",
        "\r\n",
        "\r\n",
        "pagecountsEnAllDF.show()\r\n",
        "\r\n",
        "\r\n",
        "In the cell above, change the parameters of the show command to:\r\n",
        "* print only the first five records\r\n",
        "* disable truncation\r\n",
        "* print only the first ten records and disable truncation\r\n",
        "\r\n",
        "**Note:** The function `show(..)` is an **action** which triggers a job.\r\n"
      ],
      "metadata": {
        "nteract": {
          "transient": {
            "deleting": false
          }
        }
      }
    },
    {
      "cell_type": "markdown",
      "source": [
        "##![Spark Logo Tiny](https://files.training.databricks.com/images/105/logo_spark_tiny.png) display(..)\r\n",
        "\r\n",
        "The `show(..)` command is part of the core Spark API and simply prints the results to the console.\r\n",
        "\r\n",
        "Our notebooks have a slightly more elegant alternative.\r\n",
        "\r\n",
        "Instead of calling `show(..)` on an existing `DataFrame` we can instead pass our `DataFrame` to the `display(..)` command:\r\n"
      ],
      "metadata": {
        "nteract": {
          "transient": {
            "deleting": false
          }
        }
      }
    },
    {
      "cell_type": "code",
      "source": [
        "display(pagecountsEnAllDF)"
      ],
      "outputs": [],
      "execution_count": null,
      "metadata": {
        "jupyter": {
          "source_hidden": false,
          "outputs_hidden": false
        },
        "nteract": {
          "transient": {
            "deleting": false
          }
        }
      }
    },
    {
      "cell_type": "markdown",
      "source": [
        "### show(..) vs display(..)\r\n",
        "* `show(..)` is part of core spark - `display(..)` is specific to our notebooks.\r\n",
        "* `show(..)` is ugly - `display(..)` is pretty.\r\n",
        "* `show(..)` has parameters for truncating both columns and rows - `display(..)` does not.\r\n",
        "* `show(..)` is a function of the `DataFrame`/`Dataset` class - `display(..)` works with a number of different objects.\r\n",
        "* `display(..)` is more powerful - with it, you can...\r\n",
        "  * Download the results as CSV\r\n",
        "  * Render line charts, bar chart & other graphs, maps and more.\r\n",
        "  * See up to 1000 records at a time.\r\n",
        "  \r\n",
        "For the most part, the difference between the two is going to come down to preference.\r\n",
        "\r\n",
        "Like `DataFrame.show(..)`, `display(..)` is an **action** which triggers a job."
      ],
      "metadata": {
        "nteract": {
          "transient": {
            "deleting": false
          }
        }
      }
    },
    {
      "cell_type": "markdown",
      "source": [
        "##![Spark Logo Tiny](https://files.training.databricks.com/images/105/logo_spark_tiny.png) limit(..)\r\n",
        "\r\n",
        "Both `show(..)` and `display(..)` are **actions** that trigger jobs (though in slightly different ways).\r\n",
        "\r\n",
        "If you recall, `show(..)` has a parameter to control how many records are printed but, `display(..)` does not.\r\n",
        "\r\n",
        "We can address that difference with our first transformation, `limit(..)`.\r\n",
        "\r\n",
        "If you look at the API docs, `limit(..)` is described like this:\r\n",
        "> Returns a new Dataset by taking the first n rows...\r\n",
        "\r\n",
        "`show(..)`, like many actions, does not return anything. \r\n",
        "\r\n",
        "On the other hand, transformations like `limit(..)` return a **new** `DataFrame`:"
      ],
      "metadata": {
        "nteract": {
          "transient": {
            "deleting": false
          }
        }
      }
    },
    {
      "cell_type": "code",
      "source": [
        "limitedDF = pagecountsEnAllDF.limit(5) # \"limit\" the number of records to the first 5\r\n",
        "\r\n",
        "limitedDF # Python hack to force printing of the data type"
      ],
      "outputs": [],
      "execution_count": null,
      "metadata": {
        "jupyter": {
          "source_hidden": false,
          "outputs_hidden": false
        },
        "nteract": {
          "transient": {
            "deleting": false
          }
        }
      }
    },
    {
      "cell_type": "markdown",
      "source": [
        "* Notice how \"nothing\" happened - that is no job was triggered.\r\n",
        "* This is because we are simply defining the second step in our transformations.\r\n",
        "  0. Read in the parquet file (represented by **pagecountsEnAllDF**).\r\n",
        "  0. Limit those records to just the first 5 (represented by **limitedDF**).\r\n",
        "* It's not until we induce an action that a job is triggered and the data is processed\r\n",
        "\r\n",
        "We can induce a job by calling either the `show(..)` or the `display(..)` actions:"
      ],
      "metadata": {
        "nteract": {
          "transient": {
            "deleting": false
          }
        }
      }
    },
    {
      "cell_type": "code",
      "source": [
        "limitedDF.show(100, False) #show up to 100 records and don't truncate the columns\r\n",
        "\r\n",
        "display(limitedDF) # defaults to the first 1000 records\r\n"
      ],
      "outputs": [],
      "execution_count": null,
      "metadata": {
        "jupyter": {
          "source_hidden": false,
          "outputs_hidden": false
        },
        "nteract": {
          "transient": {
            "deleting": false
          }
        }
      }
    },
    {
      "cell_type": "markdown",
      "source": [
        "##![Spark Logo Tiny](https://files.training.databricks.com/images/105/logo_spark_tiny.png) select(..)\r\n",
        "\r\n",
        "Let's say, for the sake of argument, that we don't want to look at all the data:"
      ],
      "metadata": {
        "nteract": {
          "transient": {
            "deleting": false
          }
        }
      }
    },
    {
      "cell_type": "markdown",
      "source": [
        "For example, it was asserted above that **bytes_served** had nothing but zeros in it and consequently is of no value to us.\r\n",
        "\r\n",
        "If that is the case, we can disregard it by selecting only the three columns that we want:"
      ],
      "metadata": {
        "nteract": {
          "transient": {
            "deleting": false
          }
        }
      }
    },
    {
      "cell_type": "markdown",
      "source": [
        "# Transform the data by selecting only three columns\r\n",
        "onlyThreeDF = (pagecountsEnAllDF\r\n",
        "  .select(\"project\", \"article\", \"requests\") # Our 2nd transformation (4 >> 3 columns)\r\n",
        ")\r\n",
        "# Now let's take a look at what the schema looks like\r\n",
        "onlyThreeDF.printSchema()"
      ],
      "metadata": {
        "nteract": {
          "transient": {
            "deleting": false
          }
        }
      }
    },
    {
      "cell_type": "markdown",
      "source": [
        "Again, notice how the call to `select(..)` does not trigger a job.\r\n",
        "\r\n",
        "That's because `select(..)` is a transformation. It's just one more step in a long list of transformations.\r\n",
        "\r\n",
        "Let's go ahead and invoke the action `show(..)` and take a look at the result.\r\n"
      ],
      "metadata": {
        "nteract": {
          "transient": {
            "deleting": false
          }
        }
      }
    },
    {
      "cell_type": "code",
      "source": [
        "# And lastly, show the first five records which should exclude the bytes_served column.\r\n",
        "onlyThreeDF.show(5, False)"
      ],
      "outputs": [],
      "execution_count": null,
      "metadata": {
        "jupyter": {
          "source_hidden": false,
          "outputs_hidden": false
        },
        "nteract": {
          "transient": {
            "deleting": false
          }
        }
      }
    },
    {
      "cell_type": "markdown",
      "source": [
        "The `select(..)` command is one of the most powerful and most commonly used transformations. \r\n",
        "\r\n",
        "We will see plenty of other examples of its usage as we progress.\r\n",
        "\r\n",
        "If you look at the API docs, `select(..)` is described like this:\r\n",
        "> Returns a new Dataset by computing the given Column expression for each element.\r\n",
        "\r\n",
        "The \"Column expression\" referred to there is where the true power of this operation shows up. Again, we will go deeper on these later.\r\n",
        "\r\n",
        "Just like `limit(..)`, `select(..)` \r\n",
        "* does not trigger a job\r\n",
        "* returns a new `DataFrame`\r\n",
        "* simply defines the next transformation in a sequence of transformations."
      ],
      "metadata": {
        "nteract": {
          "transient": {
            "deleting": false
          }
        }
      }
    },
    {
      "cell_type": "markdown",
      "source": [
        "##![Spark Logo Tiny](https://files.training.databricks.com/images/105/logo_spark_tiny.png) drop(..)\r\n",
        "\r\n",
        "As a quick side note, you will quickly discover there are a lot of ways to accomplish the same task.\r\n",
        "\r\n",
        "Take the transformation `drop(..)` for example - instead of selecting everything we wanted, `drop(..)` allows us to specify the columns we don't want.\r\n",
        "\r\n",
        "If you look at the API docs, `drop(..)` is described like this:\r\n",
        "> Returns a new Dataset with a column dropped.\r\n",
        "\r\n",
        "And we can see that we can produce the same result as the last exercise this way:"
      ],
      "metadata": {
        "nteract": {
          "transient": {
            "deleting": false
          }
        }
      }
    },
    {
      "cell_type": "code",
      "source": [
        "# Transform the data by selecting only three columns\r\n",
        "droppedDF = (pagecountsEnAllDF\r\n",
        "  .drop(\"bytes_served\") # Our second transformation after the initial read (4 columns down to 3)\r\n",
        ")\r\n",
        "# Now let's take a look at what the schema looks like\r\n",
        "droppedDF.printSchema()"
      ],
      "outputs": [],
      "execution_count": null,
      "metadata": {
        "jupyter": {
          "source_hidden": false,
          "outputs_hidden": false
        },
        "nteract": {
          "transient": {
            "deleting": false
          }
        }
      }
    },
    {
      "cell_type": "markdown",
      "source": [
        "Again, `drop(..)` is just one more transformation - that is no job is triggered."
      ],
      "metadata": {
        "nteract": {
          "transient": {
            "deleting": false
          }
        }
      }
    },
    {
      "cell_type": "code",
      "source": [
        "# And lastly, show the first five records which should exclude the bytes_served column.\r\n",
        "droppedDF.show(5, False)"
      ],
      "outputs": [],
      "execution_count": null,
      "metadata": {
        "jupyter": {
          "source_hidden": false,
          "outputs_hidden": false
        },
        "nteract": {
          "transient": {
            "deleting": false
          }
        }
      }
    },
    {
      "cell_type": "markdown",
      "source": [
        "##![Spark Logo Tiny](https://files.training.databricks.com/images/105/logo_spark_tiny.png) distinct() & dropDuplicates()\r\n",
        "\r\n",
        "These two transformations do the same thing. In fact, they are aliases for one another.\r\n",
        "* You can see this by looking at the source code for these two methods\r\n",
        "* ```def distinct(): Dataset[T] = dropDuplicates()```\r\n",
        "* See <a href=\"https://github.com/apache/spark/blob/master/sql/core/src/main/scala/org/apache/spark/sql/Dataset.scala\" target=\"_blank\">Dataset.scala</a>\r\n",
        "\r\n",
        "The difference between them has everything to do with the programmer and their perspective.\r\n",
        "* The name **distinct** will resonate with developers, analyst and DB admins with a background in SQL.\r\n",
        "* The name **dropDuplicates** will resonate with developers that have a background or experience in functional programming.\r\n",
        "\r\n",
        "As you become more familiar with the various APIs, you will see this pattern reassert itself.\r\n",
        "\r\n",
        "The designers of the API are trying to make the API as approachable as possible for multiple target audiences.\r\n",
        "\r\n",
        "If you look at the API docs, both `distinct(..)` and `dropDuplicates(..)` are described like this:\r\n",
        "> Returns a new Dataset that contains only the unique rows from this Dataset....\r\n",
        "\r\n",
        "With this transformation, we can now tackle our first business question:\r\n"
      ],
      "metadata": {
        "nteract": {
          "transient": {
            "deleting": false
          }
        }
      }
    },
    {
      "cell_type": "markdown",
      "source": [
        "### How many different English Wikimedia projects saw traffic during that hour?\r\n",
        "\r\n",
        "If you recall, our original `DataFrame` has this schema:"
      ],
      "metadata": {
        "nteract": {
          "transient": {
            "deleting": false
          }
        }
      }
    },
    {
      "cell_type": "code",
      "source": [
        "pagecountsEnAllDF.printSchema()"
      ],
      "outputs": [],
      "execution_count": null,
      "metadata": {
        "jupyter": {
          "source_hidden": false,
          "outputs_hidden": false
        },
        "nteract": {
          "transient": {
            "deleting": false
          }
        }
      }
    },
    {
      "cell_type": "markdown",
      "source": [
        "The transformation `distinct()` is applied to the row as a whole - data in the **project**, **article** and **requests** column will effect this evaluation.\r\n",
        "\r\n",
        "To get the distinct list of projects, and only projects, we need to reduce the number of columns to just the one column, **project**. \r\n",
        "\r\n",
        "We can do this with the `select(..)` transformation and then we can introduce the `distinct()` transformation.\r\n"
      ],
      "metadata": {
        "nteract": {
          "transient": {
            "deleting": false
          }
        }
      }
    },
    {
      "cell_type": "code",
      "source": [
        "distinctDF = (pagecountsEnAllDF     # Our original DataFrame from spark.read.parquet(..)\r\n",
        "  .select(\"project\")                # Drop all columns except the \"project\" column\r\n",
        "  .distinct()                       # Reduce the set of all records to just the distinct column.\r\n",
        ")"
      ],
      "outputs": [],
      "execution_count": null,
      "metadata": {
        "jupyter": {
          "source_hidden": false,
          "outputs_hidden": false
        },
        "nteract": {
          "transient": {
            "deleting": false
          }
        }
      }
    },
    {
      "cell_type": "markdown",
      "source": [
        "Just to reinforce, we have three transformations:\r\n",
        "0. Read the data (now represented by `pagecountsEnAllDF`)\r\n",
        "0. Select just the one column\r\n",
        "0. Reduce the records to a distinct set\r\n",
        "\r\n",
        "No job is triggered until we perform an action like `show(..)`:\r\n"
      ],
      "metadata": {
        "nteract": {
          "transient": {
            "deleting": false
          }
        }
      }
    },
    {
      "cell_type": "code",
      "source": [
        "# There will not be more than 100 projects\r\n",
        "distinctDF.show(100, False)   "
      ],
      "outputs": [],
      "execution_count": null,
      "metadata": {
        "jupyter": {
          "source_hidden": false,
          "outputs_hidden": false
        },
        "nteract": {
          "transient": {
            "deleting": false
          }
        }
      }
    },
    {
      "cell_type": "markdown",
      "source": [
        "You can count those if you like.\r\n",
        "\r\n",
        "But, it would be easier to ask the `DataFrame` for the `count()`:\r\n"
      ],
      "metadata": {
        "nteract": {
          "transient": {
            "deleting": false
          }
        }
      }
    },
    {
      "cell_type": "code",
      "source": [
        "total = distinctDF.count()     \r\n",
        "print(\"Distinct Projects: {0:,}\".format( total ))"
      ],
      "outputs": [],
      "execution_count": null,
      "metadata": {
        "jupyter": {
          "source_hidden": false,
          "outputs_hidden": false
        },
        "nteract": {
          "transient": {
            "deleting": false
          }
        }
      }
    },
    {
      "cell_type": "markdown",
      "source": [
        "##![Spark Logo Tiny](https://files.training.databricks.com/images/105/logo_spark_tiny.png) dropDuplicates(columns...)\r\n",
        "\r\n",
        "The method `dropDuplicates(..)` has a second variant that accepts one or more columns.\r\n",
        "* The distinction is not performed across the entire record unlike `distinct()` or even `dropDuplicates()`.\r\n",
        "* The distinction is based only on the specified columns.\r\n",
        "* This allows us to keep all the original columns in our `DataFrame`.\r\n",
        "\r\n",
        "\r\n",
        "##![Spark Logo Tiny](https://files.training.databricks.com/images/105/logo_spark_tiny.png) Recap\r\n",
        "\r\n",
        "Our code is spread out over many cells which can make this a little hard to follow.\r\n",
        "\r\n",
        "Let's take a look at the same code in a single cell."
      ],
      "metadata": {
        "nteract": {
          "transient": {
            "deleting": false
          }
        }
      }
    },
    {
      "cell_type": "code",
      "source": [
        "parquetDir = source + \"/wikipedia/pagecounts/staging_parquet_en_only_clean/\"\r\n",
        "\r\n",
        "pagecountsEnAllDF = (spark       # Our SparkSession & Entry Point\r\n",
        "  .read                          # Our DataFrameReader\r\n",
        "  .parquet(parquetDir)           # Returns an instance of DataFrame\r\n",
        ")\r\n",
        "(pagecountsEnAllDF               # Only if we are running multiple queries\r\n",
        "  .cache()                       # mark the DataFrame as cachable\r\n",
        "  .count()                       # materialize the cache\r\n",
        ")\r\n",
        "distinctDF = (pagecountsEnAllDF  # Our original DataFrame from spark.read.parquet(..)\r\n",
        "  .select(\"project\")             # Drop all columns except the \"project\" column\r\n",
        "  .distinct()                    # Reduce the set of all records to just the distinct column.\r\n",
        ")\r\n",
        "total = distinctDF.count()     \r\n",
        "print(\"Distinct Projects: {0:,}\".format( total ))"
      ],
      "outputs": [],
      "execution_count": null,
      "metadata": {
        "jupyter": {
          "source_hidden": false,
          "outputs_hidden": false
        },
        "nteract": {
          "transient": {
            "deleting": false
          }
        }
      }
    },
    {
      "cell_type": "markdown",
      "source": [
        "##![Spark Logo Tiny](https://files.training.databricks.com/images/105/logo_spark_tiny.png) DataFrames vs SQL & Temporary Views\r\n",
        "\r\n",
        "The `DataFrame`s API is built upon an SQL engine.\r\n",
        "\r\n",
        "As such we can \"convert\" a `DataFrame` into a temporary view (or table) and then use it in \"standard\" SQL.\r\n",
        "\r\n",
        "Let's start by creating a temporary view from a previous `DataFrame`."
      ],
      "metadata": {
        "nteract": {
          "transient": {
            "deleting": false
          }
        }
      }
    },
    {
      "cell_type": "code",
      "source": [
        "pagecountsEnAllDF.createOrReplaceTempView(\"pagecounts\")"
      ],
      "outputs": [],
      "execution_count": null,
      "metadata": {
        "jupyter": {
          "source_hidden": false,
          "outputs_hidden": false
        },
        "nteract": {
          "transient": {
            "deleting": false
          }
        }
      }
    },
    {
      "cell_type": "markdown",
      "source": [
        "Now that we have a temporary view (or table) we can start expressing our queries and transformations in SQL:"
      ],
      "metadata": {
        "nteract": {
          "transient": {
            "deleting": false
          }
        }
      }
    },
    {
      "cell_type": "code",
      "source": [
        "%sql\r\n",
        "\r\n",
        "SELECT * FROM pagecounts"
      ],
      "outputs": [],
      "execution_count": null,
      "metadata": {
        "jupyter": {
          "source_hidden": false,
          "outputs_hidden": false
        },
        "nteract": {
          "transient": {
            "deleting": false
          }
        }
      }
    },
    {
      "cell_type": "markdown",
      "source": [
        "And we can just as easily express in SQL the distinct list of projects, and just because we can, we'll sort that list:"
      ],
      "metadata": {
        "nteract": {
          "transient": {
            "deleting": false
          }
        }
      }
    },
    {
      "cell_type": "code",
      "source": [
        "%sql\r\n",
        "\r\n",
        "SELECT DISTINCT project FROM pagecounts ORDER BY project"
      ],
      "outputs": [],
      "execution_count": null,
      "metadata": {
        "jupyter": {
          "source_hidden": false,
          "outputs_hidden": false
        },
        "nteract": {
          "transient": {
            "deleting": false
          }
        }
      }
    },
    {
      "cell_type": "markdown",
      "source": [
        "And converting from SQL back to a `DataFrame` is just as easy:"
      ],
      "metadata": {
        "nteract": {
          "transient": {
            "deleting": false
          }
        }
      }
    },
    {
      "cell_type": "code",
      "source": [
        "tableDF = spark.sql(\"SELECT DISTINCT project FROM pagecounts ORDER BY project\")\r\n",
        "display(tableDF)"
      ],
      "outputs": [],
      "execution_count": null,
      "metadata": {
        "jupyter": {
          "source_hidden": false,
          "outputs_hidden": false
        },
        "nteract": {
          "transient": {
            "deleting": false
          }
        }
      }
    }
  ],
  "metadata": {
    "language_info": {
      "name": "python"
    },
    "kernelspec": {
      "name": "synapse_pyspark",
      "display_name": "python"
    },
    "save_output": true,
    "synapse_widget": {
      "version": "0.1",
      "state": {}
    }
  },
  "nbformat": 4,
  "nbformat_minor": 2
}
